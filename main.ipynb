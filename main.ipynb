{
 "cells": [
  {
   "cell_type": "markdown",
   "source": [
    "<h1>Preparation</h1>\n",
    "First we need to initialize parameters and dataset. Note that all the pre defined paramters are the ones providing the\n",
    "best results found yet:\n",
    "\n",
    "<ul>\n",
    "<li>datasetLocation: the path to the folder containing all the data for this training</li>\n",
    "<li>normalizeY: If we want to normalize all Y positions</li>\n",
    "<li>normalizeZ: If we want to normalize all Y positions</li>\n",
    "<li>computeAV: If we want to add acceleration and velocity</li>\n",
    "<li>linearInter: If we want to fill NaN values with linear interpolation (otherwise they are filled with zeros)</li>\n",
    "</ul>"
   ],
   "metadata": {
    "collapsed": false
   }
  },
  {
   "cell_type": "code",
   "execution_count": 1,
   "metadata": {
    "collapsed": true
   },
   "outputs": [],
   "source": [
    "import ManageData\n",
    "import btk as btk\n",
    "import numpy as np\n",
    "import os\n",
    "import torch\n",
    "import torch.nn as nn\n",
    "import torch.nn.functional as F\n",
    "from torch.utils.data import DataLoader\n",
    "import matplotlib.pyplot as plt\n",
    "from sklearn.metrics import accuracy_score\n",
    "\n",
    "# Parameters and initialize\n",
    "np.random.seed(555)\n",
    "\n",
    "datasetLocation = \"Data/Participants\"\n",
    "\n",
    "normalizeY = False\n",
    "normalizeZ = False\n",
    "computeAV = False\n",
    "linearInter = True\n",
    "\n",
    "winSize = 500\n",
    "batch_size = 500\n",
    "nLSTMcells = 256\n",
    "nLSTMlayers = 4\n",
    "LSTMdropout = .17\n",
    "FCnodes = 128\n",
    "lr = 0.0001\n",
    "epoch = 50"
   ]
  },
  {
   "cell_type": "markdown",
   "source": [
    "Then we want to extract all the values from the C3D files.<br><br>\n",
    "All the labels that we want to extract and predict are from a text file. Each row of the file should contain one label.\n",
    "Each label then gets an ID for computation purposes.\n",
    "<br><br>\n",
    "The trajectories comes from the corresponding data folder depending on which dataset we are working."
   ],
   "metadata": {
    "collapsed": false
   }
  },
  {
   "cell_type": "code",
   "execution_count": 2,
   "outputs": [
    {
     "name": "stdout",
     "output_type": "stream",
     "text": [
      "35 labels where extracted\n",
      "Shape for the training data: torch.Size([15000, 500, 3])\n",
      "Shape for the test data: torch.Size([3725, 500, 3])\n"
     ]
    }
   ],
   "source": [
    "#Extract labels\n",
    "labels = np.loadtxt(\"Data/Labels/list.txt\", dtype='str')\n",
    "print(str(labels.shape[0]) + \" labels where extracted\")\n",
    "label_map = dict(zip(labels, range(0, len(labels))))\n",
    "\n",
    "dir_list = os.listdir(datasetLocation)\n",
    "c3d_files = []\n",
    "for file in dir_list:\n",
    "    if file.upper().endswith(\".C3D\"):\n",
    "        c3d_files.append(datasetLocation + \"/\" + file)\n",
    "np.random.shuffle(c3d_files)\n",
    "\n",
    "reader = btk.btkAcquisitionFileReader()\n",
    "\n",
    "files_problem = 0\n",
    "\n",
    "tens_labels = []\n",
    "labelledTraj = []\n",
    "for file in c3d_files:\n",
    "    reader.SetFilename(file)\n",
    "    reader.Update()\n",
    "    acq = reader.GetOutput()\n",
    "    metadata = acq.GetMetaData()\n",
    "    labels_list_tmp = list(metadata.FindChild(\"POINT\").value().FindChild(\"LABELS\").value().GetInfo().ToString())\n",
    "    labels_list_tmp = [name.replace(' ', '') for name in labels_list_tmp]\n",
    "\n",
    "    labels_list = []\n",
    "    for lab in labels_list_tmp:\n",
    "        if lab in labels:\n",
    "            labels_list.append(lab)\n",
    "\n",
    "    if len(labels_list) != len(labels):\n",
    "        files_problem = files_problem + 1\n",
    "    else:\n",
    "        markers_data = [reader.GetOutput().GetPoint(marker).GetValues() for marker in labels_list]\n",
    "        markers_data = np.array(markers_data)\n",
    "        marker_sliced = markers_data[:,:winSize,:]\n",
    "        posx = marker_sliced.T[0].T\n",
    "        posy = marker_sliced.T[1].T\n",
    "        posz = marker_sliced.T[2].T\n",
    "        pad = winSize - posx.shape[1]\n",
    "        if pad > 0:\n",
    "            posx = np.pad(posx,[[0,0],[0,pad] ], 'constant')\n",
    "            posy = np.pad(posy,[[0,0],[0,pad] ], 'constant')\n",
    "            posz = np.pad(posz,[[0,0],[0,pad] ], 'constant')\n",
    "        for j in range(len(labels_list)):\n",
    "            tens_labels.append(label_map[labels_list[j]])\n",
    "            posxyz = [posx[j], posy[j], posz[j]]\n",
    "            posxyz = ManageData.linInterpolation(posxyz) if linearInter else np.nan_to_num(posxyz)\n",
    "            labelledTraj.append(posxyz)\n",
    "\n",
    "# mix trajs with ids\n",
    "labelledTraj = np.array(labelledTraj)\n",
    "shuffle_idx = np.arange(labelledTraj.shape[0])\n",
    "np.random.shuffle(shuffle_idx)\n",
    "labelledTraj = labelledTraj[shuffle_idx]\n",
    "tens = torch.from_numpy(labelledTraj)\n",
    "\n",
    "#creating final datasets\n",
    "if normalizeY : tens = ManageData.normalizeY(tens)\n",
    "if normalizeZ : tens = ManageData.normalizeZ(tens)\n",
    "if computeAV : tens = ManageData.computeAV(tens)\n",
    "\n",
    "trainingData = tens[0:15000]\n",
    "testData = tens[15000:]\n",
    "\n",
    "testData = testData.float()\n",
    "testData = torch.transpose(testData,1 ,2)\n",
    "\n",
    "tens_labels = np.array(tens_labels)\n",
    "tens_labels = tens_labels[shuffle_idx]\n",
    "tens_labels = torch.Tensor(tens_labels)\n",
    "\n",
    "trainingData = trainingData.float()\n",
    "trainingData = torch.transpose(trainingData,1 ,2)\n",
    "features = trainingData.shape[2]\n",
    "\n",
    "print(\"Shape for the training data: \" + str(trainingData.shape))\n",
    "print(\"Shape for the test data: \" + str(testData.shape))"
   ],
   "metadata": {
    "collapsed": false,
    "pycharm": {
     "name": "#%%\n"
    }
   }
  },
  {
   "cell_type": "markdown",
   "source": [
    "<h1>Model</h1>\n",
    "Now we initialize our model with four layers of LSTM, a Fully Connected layer, BatchNorm, ReLU, a Linear layer and a\n",
    "las Fully Connected."
   ],
   "metadata": {
    "collapsed": false
   }
  },
  {
   "cell_type": "code",
   "execution_count": 3,
   "outputs": [],
   "source": [
    "device = torch.device('cuda' if torch.cuda.is_available() else 'cpu')\n",
    "class LSTM(nn.Module):\n",
    "    def __init__(self):\n",
    "        super(LSTM, self).__init__()\n",
    "        self.lstm = nn.LSTM(features, nLSTMcells, num_layers=nLSTMlayers, batch_first=True, bidirectional=False, dropout=LSTMdropout)\n",
    "        self.fc =nn.Sequential(nn.Linear(nLSTMcells * winSize, FCnodes),\n",
    "        nn.BatchNorm1d(FCnodes),\n",
    "        nn.ReLU(),\n",
    "        nn.Linear(FCnodes,35))\n",
    "\n",
    "    def forward(self, x):\n",
    "        res = self.lstm(x)\n",
    "        return self.fc(res[0].reshape(x.shape[0], -1))"
   ],
   "metadata": {
    "collapsed": false,
    "pycharm": {
     "name": "#%%\n"
    }
   }
  },
  {
   "cell_type": "markdown",
   "source": [
    "<h1>Training</h1>\n",
    "The training will go along the choosed parameters. We use Adam Optimiser and a cross-entropy loss function."
   ],
   "metadata": {
    "collapsed": false
   }
  },
  {
   "cell_type": "code",
   "execution_count": 4,
   "outputs": [
    {
     "name": "stdout",
     "output_type": "stream",
     "text": [
      "Training in progress, please wait...\n",
      "Best accuracy recorded: 0.6575277777777778\n"
     ]
    },
    {
     "data": {
      "text/plain": "<Figure size 432x288 with 1 Axes>",
      "image/png": "[encoded data removed]"
     },
     "metadata": {
      "needs_background": "light"
     },
     "output_type": "display_data"
    },
    {
     "data": {
      "text/plain": "<Figure size 432x288 with 1 Axes>",
      "image/png": "[encoded data removed]"
     },
     "metadata": {
      "needs_background": "light"
     },
     "output_type": "display_data"
    }
   ],
   "source": [
    "print('Training in progress, please wait...')\n",
    "train_data = []\n",
    "test_data = []\n",
    "avg_hist = []\n",
    "loss_hist = []\n",
    "for i in range(len(trainingData)):\n",
    "    train_data.append([trainingData[i], tens_labels[i]])\n",
    "for i in range(len(testData)):\n",
    "    test_data.append([testData[i], tens_labels[i+15000]])\n",
    "train_data_loader = DataLoader(train_data, batch_size=batch_size, shuffle=True)\n",
    "test_data_loader = DataLoader(test_data, batch_size=batch_size, shuffle=True)\n",
    "net = LSTM().to(device)\n",
    "optim = torch.optim.Adam(net.parameters(), lr=lr)\n",
    "for i in range(epoch):\n",
    "    net.train()\n",
    "    for j, batch in enumerate(train_data_loader):\n",
    "        optim.zero_grad()\n",
    "        x = batch[0].to(device)\n",
    "        labels = batch[1].to(device)\n",
    "        pred = net(x)\n",
    "        loss = F.cross_entropy(pred, labels.long())\n",
    "        loss.backward()\n",
    "        optim.step()\n",
    "    with torch.no_grad():\n",
    "        net.eval()\n",
    "        avg_loss = []\n",
    "        avg_acc = []\n",
    "        for j, batch in enumerate(test_data_loader):\n",
    "            x = batch[0].to(device)\n",
    "            labels = batch[1].to(device)\n",
    "            pred = net(x)\n",
    "            loss = F.cross_entropy(pred, labels.long())\n",
    "            acc = accuracy_score(labels.long().cpu(), torch.argmax(pred, dim=1).cpu())\n",
    "            avg_loss.append(loss.item())\n",
    "            avg_acc.append(acc)\n",
    "        loss_hist.append(np.average(avg_loss))\n",
    "        avg_hist.append(np.average(avg_acc))\n",
    "\n",
    "print('Best accuracy recorded: ' + str(np.max(avg_hist)))\n",
    "plt.title('Average Accuracy')\n",
    "plt.grid(True)\n",
    "plt.plot(avg_hist)\n",
    "\n",
    "plt.figure()\n",
    "plt.title('Test Loss')\n",
    "plt.grid(True)\n",
    "plt.plot(loss_hist)\n",
    "torch.save({\n",
    "            'epoch': epoch,\n",
    "            'model_state_dict': net.state_dict(),\n",
    "            'optimizer_state_dict': optim.state_dict(),\n",
    "            'loss': loss\n",
    "            }, 'models/testedMod.txt')"
   ],
   "metadata": {
    "collapsed": false,
    "pycharm": {
     "name": "#%%\n"
    }
   }
  }
 ],
 "metadata": {
  "kernelspec": {
   "display_name": "Python 3",
   "language": "python",
   "name": "python3"
  },
  "language_info": {
   "codemirror_mode": {
    "name": "ipython",
    "version": 2
   },
   "file_extension": ".py",
   "mimetype": "text/x-python",
   "name": "python",
   "nbconvert_exporter": "python",
   "pygments_lexer": "ipython2",
   "version": "2.7.6"
  }
 },
 "nbformat": 4,
 "nbformat_minor": 0
}